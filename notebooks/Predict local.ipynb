{
 "cells": [
  {
   "cell_type": "code",
   "execution_count": 4,
   "id": "310e90b1",
   "metadata": {},
   "outputs": [],
   "source": [
    "#data sourcing\n",
    "import sqlite3\n",
    "\n",
    "#data manipulation\n",
    "import pandas as pd\n",
    "\n",
    "#preprocessing and modelling\n",
    "from sklearn.cluster import KMeans\n",
    "from sklearn.preprocessing import MinMaxScaler\n"
   ]
  },
  {
   "cell_type": "markdown",
   "id": "a8250015",
   "metadata": {},
   "source": [
    "Quering with Pandas"
   ]
  },
  {
   "cell_type": "code",
   "execution_count": 7,
   "id": "0058ef2e",
   "metadata": {
    "collapsed": true
   },
   "outputs": [
    {
     "ename": "TypeError",
     "evalue": "read_sql_query() missing 2 required positional arguments: 'sql' and 'con'",
     "output_type": "error",
     "traceback": [
      "\u001b[0;31m---------------------------------------------------------------------------\u001b[0m",
      "\u001b[0;31mTypeError\u001b[0m                                 Traceback (most recent call last)",
      "Input \u001b[0;32mIn [7]\u001b[0m, in \u001b[0;36m<cell line: 2>\u001b[0;34m()\u001b[0m\n\u001b[1;32m      1\u001b[0m \u001b[38;5;66;03m#reading the sql query into a dataframe\u001b[39;00m\n\u001b[0;32m----> 2\u001b[0m df \u001b[38;5;241m=\u001b[39m \u001b[43mpd\u001b[49m\u001b[38;5;241;43m.\u001b[39;49m\u001b[43mread_sql_query\u001b[49m\u001b[43m(\u001b[49m\u001b[43m)\u001b[49m\n",
      "\u001b[0;31mTypeError\u001b[0m: read_sql_query() missing 2 required positional arguments: 'sql' and 'con'"
     ]
    }
   ],
   "source": [
    "#reading the sql query into a dataframe\n",
    "df = pd.read_sql_query()"
   ]
  },
  {
   "cell_type": "code",
   "execution_count": 12,
   "id": "2587b7d1",
   "metadata": {},
   "outputs": [],
   "source": [
    "# get data from database\n",
    "def get_data():\n",
    "    conn = sqlite3.connect(\"/home/arvin/code/ArvinAzimifard/data-challenges/01-Python/03-SQL-Basics/04-Interacting-With-Code/data/movies.sqlite\")\n",
    "    db = conn.cursor()\n",
    "    return db\n"
   ]
  },
  {
   "cell_type": "code",
   "execution_count": 13,
   "id": "4b25a5c9",
   "metadata": {},
   "outputs": [
    {
     "data": {
      "text/plain": [
       "<sqlite3.Cursor at 0x7f34d326a7a0>"
      ]
     },
     "execution_count": 13,
     "metadata": {},
     "output_type": "execute_result"
    }
   ],
   "source": [
    "get_data()"
   ]
  },
  {
   "cell_type": "code",
   "execution_count": null,
   "id": "e198cd38",
   "metadata": {},
   "outputs": [],
   "source": [
    "# path to local database\n",
    "PATH_TO_DB = '../raw_data/title-of-db.sqlite'\n",
    "\n",
    "def predict(country, n_centers):\n",
    "    \"\"\"\n",
    "    This function takes a country code (3 letters) and\n",
    "    a number of centers n_centers.\n",
    "    It returns a list of optimal coordinates.\n",
    "    \"\"\"\n",
    "    # connect to database\n",
    "    conn = sqlite3.connect(PATH_TO_DB)\n",
    "    db = conn.cursor()\n",
    "\n",
    "    # load data with pandas\n",
    "    param = (country, )\n",
    "    query = \"\"\"\n",
    "            SELECT lon, lat, pop\n",
    "            FROM {}\n",
    "            \"\"\"\n",
    "    # data should contain the country data\n",
    "    data = pd.read_sql_query(query.format(country), con=conn)\n",
    "\n",
    "    # scaler on pop column\n",
    "    scaler = MinMaxScaler()\n",
    "    df_small.loc[:,'pop'] = scaler.fit_transform(df_small[['pop']])\n",
    "    \n",
    "    # do kmeans clustering with n_centers\n",
    "    # elbow method\n",
    "    wcss = []\n",
    "    for i in range(1, 11):\n",
    "        kmeans = KMeans(n_clusters = i,\n",
    "                        max_iter = 300,\n",
    "                        n_init = 10,\n",
    "                        random_state = 0)\n",
    "        kmeans.fit(X=df_small[['lat', 'lon']], sample_weight=df_small['pop'])\n",
    "        wcss.append(kmeans.inertia_)\n",
    "    \n",
    "\n",
    "    # return center coordinates\n",
    "    return kmeans.cluster_centers_\n",
    "\n",
    "\n",
    "## Check ##\n",
    "# to check your code, run:\n",
    "# python -m Globalizer.predict\n",
    "if __name__==\"__main__\":\n",
    "    print(predict(country = \"ARG\", n_centers = 5))\n"
   ]
  },
  {
   "cell_type": "code",
   "execution_count": 47,
   "id": "7da5d695",
   "metadata": {},
   "outputs": [],
   "source": [
    "import sqlite3\n",
    "import pandas as pd\n",
    "\n",
    "# path to local database\n",
    "PATH_TO_DB = '../raw_data/countrypop(2).db'\n",
    "\n",
    "# connect to database\n",
    "def get_data(country):\n",
    "    '''This function get's the Data from a local Database\n",
    "    and converts it to a Dataframe'''\n",
    "    conn = sqlite3.connect(PATH_TO_DB)\n",
    "    conn.set_session(autocommit=True)\n",
    "    param = (country)  \n",
    "    query = (f\"\"\"\n",
    "                SELECT lon, lat, pop\n",
    "                FROM {param}\n",
    "                \n",
    "                \"\"\")\n",
    "\n",
    "    data = pd.read_sql_query(query.format(param), con=conn)  \n",
    "    \n",
    "    return data\n",
    "\n"
   ]
  },
  {
   "cell_type": "markdown",
   "id": "dde929a0",
   "metadata": {},
   "source": [
    "Trying to get a safer way of table_name substition in the query"
   ]
  },
  {
   "cell_type": "code",
   "execution_count": 48,
   "id": "0f0d4ed4",
   "metadata": {},
   "outputs": [],
   "source": [
    "import psycopg2\n",
    "\n",
    "# path to local database\n",
    "PATH_TO_DB = '../raw_data/countrypop(2).db'\n",
    "\n",
    "# connect to database\n",
    "def get_data_psy(table_name):\n",
    "    '''This function get's the Data from a local Database\n",
    "    and converts it to a Dataframe'''\n",
    "    conn = psycopg2.connect(host=\"localhost\",database=PATH_TO_DB)\n",
    "    \n",
    "    \n",
    "    query = sql.SQL(\"\"\"\n",
    "                SELECT lon, lat, pop\n",
    "                FROM {table_name}\n",
    "                \n",
    "                \"\"\").format(table_name=sql.Identifier(table_name))\n",
    "\n",
    "    data = pd.read_sql_query(query, con=conn)  \n",
    "    \n",
    "    return data"
   ]
  },
  {
   "cell_type": "code",
   "execution_count": 46,
   "id": "0d1250d4",
   "metadata": {},
   "outputs": [
    {
     "ename": "OperationalError",
     "evalue": "connection to server at \"localhost\" (127.0.0.1), port 5432 failed: Connection refused\n\tIs the server running on that host and accepting TCP/IP connections?\n",
     "output_type": "error",
     "traceback": [
      "\u001b[0;31m---------------------------------------------------------------------------\u001b[0m",
      "\u001b[0;31mOperationalError\u001b[0m                          Traceback (most recent call last)",
      "Input \u001b[0;32mIn [46]\u001b[0m, in \u001b[0;36m<cell line: 1>\u001b[0;34m()\u001b[0m\n\u001b[0;32m----> 1\u001b[0m \u001b[43mget_data_psy\u001b[49m\u001b[43m(\u001b[49m\u001b[38;5;124;43m\"\u001b[39;49m\u001b[38;5;124;43mABW\u001b[39;49m\u001b[38;5;124;43m\"\u001b[39;49m\u001b[43m)\u001b[49m\n",
      "Input \u001b[0;32mIn [45]\u001b[0m, in \u001b[0;36mget_data_psy\u001b[0;34m(table_name)\u001b[0m\n\u001b[1;32m      7\u001b[0m \u001b[38;5;28;01mdef\u001b[39;00m \u001b[38;5;21mget_data_psy\u001b[39m(table_name):\n\u001b[1;32m      8\u001b[0m     \u001b[38;5;124;03m'''This function get's the Data from a local Database\u001b[39;00m\n\u001b[1;32m      9\u001b[0m \u001b[38;5;124;03m    and converts it to a Dataframe'''\u001b[39;00m\n\u001b[0;32m---> 10\u001b[0m     conn \u001b[38;5;241m=\u001b[39m \u001b[43mpsycopg2\u001b[49m\u001b[38;5;241;43m.\u001b[39;49m\u001b[43mconnect\u001b[49m\u001b[43m(\u001b[49m\u001b[43mhost\u001b[49m\u001b[38;5;241;43m=\u001b[39;49m\u001b[38;5;124;43m\"\u001b[39;49m\u001b[38;5;124;43mlocalhost\u001b[39;49m\u001b[38;5;124;43m\"\u001b[39;49m\u001b[43m,\u001b[49m\u001b[43mdatabase\u001b[49m\u001b[38;5;241;43m=\u001b[39;49m\u001b[43mPATH_TO_DB\u001b[49m\u001b[43m)\u001b[49m\n\u001b[1;32m     13\u001b[0m     query \u001b[38;5;241m=\u001b[39m sql\u001b[38;5;241m.\u001b[39mSQL(\u001b[38;5;124m\"\"\"\u001b[39m\n\u001b[1;32m     14\u001b[0m \u001b[38;5;124m                SELECT lon, lat, pop\u001b[39m\n\u001b[1;32m     15\u001b[0m \u001b[38;5;124m                FROM \u001b[39m\u001b[38;5;132;01m{table_name}\u001b[39;00m\n\u001b[1;32m     16\u001b[0m \u001b[38;5;124m                \u001b[39m\n\u001b[1;32m     17\u001b[0m \u001b[38;5;124m                \u001b[39m\u001b[38;5;124m\"\"\"\u001b[39m)\u001b[38;5;241m.\u001b[39mformat(table_name\u001b[38;5;241m=\u001b[39msql\u001b[38;5;241m.\u001b[39mIdentifier(table_name))\n\u001b[1;32m     19\u001b[0m     data \u001b[38;5;241m=\u001b[39m pd\u001b[38;5;241m.\u001b[39mread_sql_query(query, con\u001b[38;5;241m=\u001b[39mconn)  \n",
      "File \u001b[0;32m~/.pyenv/versions/3.8.12/envs/Globalizer/lib/python3.8/site-packages/psycopg2/__init__.py:122\u001b[0m, in \u001b[0;36mconnect\u001b[0;34m(dsn, connection_factory, cursor_factory, **kwargs)\u001b[0m\n\u001b[1;32m    119\u001b[0m     kwasync[\u001b[38;5;124m'\u001b[39m\u001b[38;5;124masync_\u001b[39m\u001b[38;5;124m'\u001b[39m] \u001b[38;5;241m=\u001b[39m kwargs\u001b[38;5;241m.\u001b[39mpop(\u001b[38;5;124m'\u001b[39m\u001b[38;5;124masync_\u001b[39m\u001b[38;5;124m'\u001b[39m)\n\u001b[1;32m    121\u001b[0m dsn \u001b[38;5;241m=\u001b[39m _ext\u001b[38;5;241m.\u001b[39mmake_dsn(dsn, \u001b[38;5;241m*\u001b[39m\u001b[38;5;241m*\u001b[39mkwargs)\n\u001b[0;32m--> 122\u001b[0m conn \u001b[38;5;241m=\u001b[39m \u001b[43m_connect\u001b[49m\u001b[43m(\u001b[49m\u001b[43mdsn\u001b[49m\u001b[43m,\u001b[49m\u001b[43m \u001b[49m\u001b[43mconnection_factory\u001b[49m\u001b[38;5;241;43m=\u001b[39;49m\u001b[43mconnection_factory\u001b[49m\u001b[43m,\u001b[49m\u001b[43m \u001b[49m\u001b[38;5;241;43m*\u001b[39;49m\u001b[38;5;241;43m*\u001b[39;49m\u001b[43mkwasync\u001b[49m\u001b[43m)\u001b[49m\n\u001b[1;32m    123\u001b[0m \u001b[38;5;28;01mif\u001b[39;00m cursor_factory \u001b[38;5;129;01mis\u001b[39;00m \u001b[38;5;129;01mnot\u001b[39;00m \u001b[38;5;28;01mNone\u001b[39;00m:\n\u001b[1;32m    124\u001b[0m     conn\u001b[38;5;241m.\u001b[39mcursor_factory \u001b[38;5;241m=\u001b[39m cursor_factory\n",
      "\u001b[0;31mOperationalError\u001b[0m: connection to server at \"localhost\" (127.0.0.1), port 5432 failed: Connection refused\n\tIs the server running on that host and accepting TCP/IP connections?\n"
     ]
    }
   ],
   "source": [
    "get_data_psy(\"ABW\")"
   ]
  },
  {
   "cell_type": "code",
   "execution_count": null,
   "id": "58e3103e",
   "metadata": {},
   "outputs": [],
   "source": []
  }
 ],
 "metadata": {
  "kernelspec": {
   "display_name": "Python 3 (ipykernel)",
   "language": "python",
   "name": "python3"
  },
  "language_info": {
   "codemirror_mode": {
    "name": "ipython",
    "version": 3
   },
   "file_extension": ".py",
   "mimetype": "text/x-python",
   "name": "python",
   "nbconvert_exporter": "python",
   "pygments_lexer": "ipython3",
   "version": "3.8.12"
  },
  "toc": {
   "base_numbering": 1,
   "nav_menu": {},
   "number_sections": true,
   "sideBar": true,
   "skip_h1_title": false,
   "title_cell": "Table of Contents",
   "title_sidebar": "Contents",
   "toc_cell": false,
   "toc_position": {},
   "toc_section_display": true,
   "toc_window_display": false
  }
 },
 "nbformat": 4,
 "nbformat_minor": 5
}
