{
 "cells": [
  {
   "cell_type": "code",
   "execution_count": 4,
   "id": "51db15ed",
   "metadata": {},
   "outputs": [],
   "source": [
    "#data sourcing\n",
    "import sqlite3\n",
    "\n",
    "#data manipulation\n",
    "import pandas as pd\n",
    "\n",
    "#preprocessing and modelling\n",
    "from sklearn.cluster import KMeans\n",
    "from sklearn.preprocessing import MinMaxScaler\n"
   ]
  },
  {
   "cell_type": "markdown",
   "id": "15a2dc82",
   "metadata": {},
   "source": [
    "Quering with Pandas"
   ]
  },
  {
   "cell_type": "code",
   "execution_count": 7,
   "id": "6f0bb31c",
   "metadata": {
    "collapsed": true
   },
   "outputs": [
    {
     "ename": "TypeError",
     "evalue": "read_sql_query() missing 2 required positional arguments: 'sql' and 'con'",
     "output_type": "error",
     "traceback": [
      "\u001b[0;31m---------------------------------------------------------------------------\u001b[0m",
      "\u001b[0;31mTypeError\u001b[0m                                 Traceback (most recent call last)",
      "Input \u001b[0;32mIn [7]\u001b[0m, in \u001b[0;36m<cell line: 2>\u001b[0;34m()\u001b[0m\n\u001b[1;32m      1\u001b[0m \u001b[38;5;66;03m#reading the sql query into a dataframe\u001b[39;00m\n\u001b[0;32m----> 2\u001b[0m df \u001b[38;5;241m=\u001b[39m \u001b[43mpd\u001b[49m\u001b[38;5;241;43m.\u001b[39;49m\u001b[43mread_sql_query\u001b[49m\u001b[43m(\u001b[49m\u001b[43m)\u001b[49m\n",
      "\u001b[0;31mTypeError\u001b[0m: read_sql_query() missing 2 required positional arguments: 'sql' and 'con'"
     ]
    }
   ],
   "source": [
    "#reading the sql query into a dataframe\n",
    "df = pd.read_sql_query()"
   ]
  },
  {
   "cell_type": "code",
   "execution_count": 12,
   "id": "7b16ce3a",
   "metadata": {},
   "outputs": [],
   "source": [
    "# get data from database\n",
    "def get_data():\n",
    "    conn = sqlite3.connect(\"/home/arvin/code/ArvinAzimifard/data-challenges/01-Python/03-SQL-Basics/04-Interacting-With-Code/data/movies.sqlite\")\n",
    "    db = conn.cursor()\n",
    "    return db\n"
   ]
  },
  {
   "cell_type": "code",
   "execution_count": 13,
   "id": "cd24f501",
   "metadata": {},
   "outputs": [
    {
     "data": {
      "text/plain": [
       "<sqlite3.Cursor at 0x7f34d326a7a0>"
      ]
     },
     "execution_count": 13,
     "metadata": {},
     "output_type": "execute_result"
    }
   ],
   "source": [
    "get_data()"
   ]
  },
  {
   "cell_type": "code",
   "execution_count": null,
   "id": "b28e4c71",
   "metadata": {},
   "outputs": [],
   "source": [
    "# path to local database\n",
    "PATH_TO_DB = '../raw_data/title-of-db.sqlite'\n",
    "\n",
    "def predict(country, n_centers):\n",
    "    \"\"\"\n",
    "    This function takes a country code (3 letters) and\n",
    "    a number of centers n_centers.\n",
    "    It returns a list of optimal coordinates.\n",
    "    \"\"\"\n",
    "    # connect to database\n",
    "    conn = sqlite3.connect(PATH_TO_DB)\n",
    "    db = conn.cursor()\n",
    "\n",
    "    # load data with pandas\n",
    "    param = (country, )\n",
    "    query = \"\"\"\n",
    "            SELECT lon, lat, pop\n",
    "            FROM {}\n",
    "            \"\"\"\n",
    "    # data should contain the country data\n",
    "    data = pd.read_sql_query(query.format(country), con=conn)\n",
    "\n",
    "    # scaler on pop column\n",
    "    scaler = MinMaxScaler()\n",
    "    df_small.loc[:,'pop'] = scaler.fit_transform(df_small[['pop']])\n",
    "    \n",
    "    # do kmeans clustering with n_centers\n",
    "    # elbow method\n",
    "    wcss = []\n",
    "    for i in range(1, 11):\n",
    "        kmeans = KMeans(n_clusters = i,\n",
    "                        max_iter = 300,\n",
    "                        n_init = 10,\n",
    "                        random_state = 0)\n",
    "        kmeans.fit(X=df_small[['lat', 'lon']], sample_weight=df_small['pop'])\n",
    "        wcss.append(kmeans.inertia_)\n",
    "    \n",
    "\n",
    "    # return center coordinates\n",
    "    return kmeans.cluster_centers_\n",
    "\n",
    "\n",
    "## Check ##\n",
    "# to check your code, run:\n",
    "# python -m Globalizer.predict\n",
    "if __name__==\"__main__\":\n",
    "    print(predict(country = \"ARG\", n_centers = 5))\n"
   ]
  },
  {
   "cell_type": "code",
   "execution_count": 39,
   "id": "bbf77b3e",
   "metadata": {},
   "outputs": [],
   "source": [
    "import sqlite3\n",
    "import pandas as pd\n",
    "\n",
    "# path to local database\n",
    "PATH_TO_DB = '../raw_data/countrypop(2).db'\n",
    "\n",
    "# connect to database\n",
    "def get_data(country):\n",
    "    '''This function get's the Data from a local Database\n",
    "    and converts it to a Dataframe'''\n",
    "    conn = sqlite3.connect(PATH_TO_DB)\n",
    "    \n",
    "    param = (country)  \n",
    "    query = (f\"\"\"\n",
    "                SELECT lon, lat, pop\n",
    "                FROM {param}\n",
    "                \n",
    "                \"\"\")\n",
    "\n",
    "    data = pd.read_sql_query(query.format(param), con=conn)  \n",
    "    \n",
    "    return data\n",
    "\n"
   ]
  },
  {
   "cell_type": "code",
   "execution_count": 40,
   "id": "fdb83bd3",
   "metadata": {},
   "outputs": [
    {
     "data": {
      "text/html": [
       "<div>\n",
       "<style scoped>\n",
       "    .dataframe tbody tr th:only-of-type {\n",
       "        vertical-align: middle;\n",
       "    }\n",
       "\n",
       "    .dataframe tbody tr th {\n",
       "        vertical-align: top;\n",
       "    }\n",
       "\n",
       "    .dataframe thead th {\n",
       "        text-align: right;\n",
       "    }\n",
       "</style>\n",
       "<table border=\"1\" class=\"dataframe\">\n",
       "  <thead>\n",
       "    <tr style=\"text-align: right;\">\n",
       "      <th></th>\n",
       "      <th>lon</th>\n",
       "      <th>lat</th>\n",
       "      <th>pop</th>\n",
       "    </tr>\n",
       "  </thead>\n",
       "  <tbody>\n",
       "    <tr>\n",
       "      <th>0</th>\n",
       "      <td>-70.063750</td>\n",
       "      <td>12.545417</td>\n",
       "      <td>14.850115</td>\n",
       "    </tr>\n",
       "    <tr>\n",
       "      <th>1</th>\n",
       "      <td>-70.063750</td>\n",
       "      <td>12.537083</td>\n",
       "      <td>10.358201</td>\n",
       "    </tr>\n",
       "    <tr>\n",
       "      <th>2</th>\n",
       "      <td>-70.055416</td>\n",
       "      <td>12.620417</td>\n",
       "      <td>0.000000</td>\n",
       "    </tr>\n",
       "    <tr>\n",
       "      <th>3</th>\n",
       "      <td>-70.055416</td>\n",
       "      <td>12.612083</td>\n",
       "      <td>16.689957</td>\n",
       "    </tr>\n",
       "    <tr>\n",
       "      <th>4</th>\n",
       "      <td>-70.055416</td>\n",
       "      <td>12.603750</td>\n",
       "      <td>49.780464</td>\n",
       "    </tr>\n",
       "    <tr>\n",
       "      <th>...</th>\n",
       "      <td>...</td>\n",
       "      <td>...</td>\n",
       "      <td>...</td>\n",
       "    </tr>\n",
       "    <tr>\n",
       "      <th>266</th>\n",
       "      <td>-69.872083</td>\n",
       "      <td>12.428750</td>\n",
       "      <td>5.795240</td>\n",
       "    </tr>\n",
       "    <tr>\n",
       "      <th>267</th>\n",
       "      <td>-69.872083</td>\n",
       "      <td>12.420417</td>\n",
       "      <td>10.164492</td>\n",
       "    </tr>\n",
       "    <tr>\n",
       "      <th>268</th>\n",
       "      <td>-69.872083</td>\n",
       "      <td>12.412083</td>\n",
       "      <td>2.496273</td>\n",
       "    </tr>\n",
       "    <tr>\n",
       "      <th>269</th>\n",
       "      <td>-69.863750</td>\n",
       "      <td>12.420417</td>\n",
       "      <td>1.479186</td>\n",
       "    </tr>\n",
       "    <tr>\n",
       "      <th>270</th>\n",
       "      <td>-69.863750</td>\n",
       "      <td>12.412083</td>\n",
       "      <td>0.268710</td>\n",
       "    </tr>\n",
       "  </tbody>\n",
       "</table>\n",
       "<p>271 rows × 3 columns</p>\n",
       "</div>"
      ],
      "text/plain": [
       "           lon        lat        pop\n",
       "0   -70.063750  12.545417  14.850115\n",
       "1   -70.063750  12.537083  10.358201\n",
       "2   -70.055416  12.620417   0.000000\n",
       "3   -70.055416  12.612083  16.689957\n",
       "4   -70.055416  12.603750  49.780464\n",
       "..         ...        ...        ...\n",
       "266 -69.872083  12.428750   5.795240\n",
       "267 -69.872083  12.420417  10.164492\n",
       "268 -69.872083  12.412083   2.496273\n",
       "269 -69.863750  12.420417   1.479186\n",
       "270 -69.863750  12.412083   0.268710\n",
       "\n",
       "[271 rows x 3 columns]"
      ]
     },
     "execution_count": 40,
     "metadata": {},
     "output_type": "execute_result"
    }
   ],
   "source": [
    "get_data(\"ABW\")"
   ]
  },
  {
   "cell_type": "code",
   "execution_count": null,
   "id": "aca8e45c",
   "metadata": {},
   "outputs": [],
   "source": []
  }
 ],
 "metadata": {
  "kernelspec": {
   "display_name": "Python 3 (ipykernel)",
   "language": "python",
   "name": "python3"
  },
  "language_info": {
   "codemirror_mode": {
    "name": "ipython",
    "version": 3
   },
   "file_extension": ".py",
   "mimetype": "text/x-python",
   "name": "python",
   "nbconvert_exporter": "python",
   "pygments_lexer": "ipython3",
   "version": "3.8.12"
  },
  "toc": {
   "base_numbering": 1,
   "nav_menu": {},
   "number_sections": true,
   "sideBar": true,
   "skip_h1_title": false,
   "title_cell": "Table of Contents",
   "title_sidebar": "Contents",
   "toc_cell": false,
   "toc_position": {},
   "toc_section_display": true,
   "toc_window_display": false
  }
 },
 "nbformat": 4,
 "nbformat_minor": 5
}
